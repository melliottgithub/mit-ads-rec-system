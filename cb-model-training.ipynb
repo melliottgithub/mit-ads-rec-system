{
 "cells": [
  {
   "cell_type": "code",
   "execution_count": 1,
   "metadata": {},
   "outputs": [],
   "source": [
    "import pandas as pd\n",
    "from sklearn.feature_extraction.text import TfidfVectorizer\n",
    "from sklearn.metrics.pairwise import cosine_similarity"
   ]
  },
  {
   "cell_type": "code",
   "execution_count": 2,
   "metadata": {},
   "outputs": [],
   "source": [
    "df_song = pd.read_pickle('./data/song_cleaned.pkl')"
   ]
  },
  {
   "cell_type": "code",
   "execution_count": 3,
   "metadata": {},
   "outputs": [
    {
     "name": "stdout",
     "output_type": "stream",
     "text": [
      "<class 'pandas.core.frame.DataFrame'>\n",
      "RangeIndex: 9991 entries, 0 to 9990\n",
      "Data columns (total 5 columns):\n",
      " #   Column       Non-Null Count  Dtype \n",
      "---  ------       --------------  ----- \n",
      " 0   song_num     9991 non-null   int32 \n",
      " 1   title        9991 non-null   object\n",
      " 2   release      9991 non-null   object\n",
      " 3   artist_name  9991 non-null   object\n",
      " 4   year         9991 non-null   int32 \n",
      "dtypes: int32(2), object(3)\n",
      "memory usage: 312.3+ KB\n"
     ]
    }
   ],
   "source": [
    "df_song_sample = df_song.sample(frac=0.01, random_state=42).reset_index(drop=True)\n",
    "df_song_sample.info()"
   ]
  },
  {
   "cell_type": "markdown",
   "metadata": {},
   "source": [
    "## Create vector of features"
   ]
  },
  {
   "cell_type": "code",
   "execution_count": 4,
   "metadata": {},
   "outputs": [],
   "source": [
    "df_song_sample['combined_features'] = df_song_sample['artist_name'] + \" \" + df_song_sample['year'].astype(str)\n",
    "tfidf_vectorizer = TfidfVectorizer()\n",
    "tfidf_matrix = tfidf_vectorizer.fit_transform(df_song_sample['combined_features'])"
   ]
  },
  {
   "cell_type": "markdown",
   "metadata": {},
   "source": [
    "## Compute the cosine similarity matrix "
   ]
  },
  {
   "cell_type": "code",
   "execution_count": 5,
   "metadata": {},
   "outputs": [],
   "source": [
    "cosine_sim = cosine_similarity(tfidf_matrix, tfidf_matrix)"
   ]
  },
  {
   "cell_type": "code",
   "execution_count": 6,
   "metadata": {},
   "outputs": [],
   "source": [
    "# creata dictionary with key song_num and value index\n",
    "song_num_index = df_song_sample['song_num'].to_dict()\n",
    "index_song_num = {v: k for k, v in song_num_index.items()}"
   ]
  },
  {
   "cell_type": "code",
   "execution_count": 7,
   "metadata": {},
   "outputs": [],
   "source": [
    "# Function to get recommendations\n",
    "def get_recommendations(song_index, cosine_sim):\n",
    "    # Get the pairwsie similarity scores of all songs with that song\n",
    "    sim_scores = list(enumerate(cosine_sim[song_index]))\n",
    "\n",
    "    # Sort the songs based on the similarity scores\n",
    "    sim_scores = sorted(sim_scores, key=lambda x: x[1], reverse=True)\n",
    "\n",
    "    # Get the scores of the 10 most similar songs\n",
    "    sim_scores = sim_scores[1:11]\n",
    "\n",
    "    # Get the song indices\n",
    "    song_indices = [i[0] for i in sim_scores]\n",
    "\n",
    "    # Return the top 10 most similar songs\n",
    "    return song_indices\n"
   ]
  },
  {
   "cell_type": "code",
   "execution_count": 10,
   "metadata": {},
   "outputs": [
    {
     "name": "stdout",
     "output_type": "stream",
     "text": [
      "[3256, 9139, 8214, 226, 2858, 247, 747, 8669, 824, 5878]\n"
     ]
    }
   ],
   "source": [
    "# Example usage\n",
    "song_num = 540868\n",
    "song_index = index_song_num[song_num]\n",
    "recommendations = get_recommendations(song_index, cosine_sim)\n",
    "print(recommendations)\n"
   ]
  },
  {
   "cell_type": "code",
   "execution_count": 11,
   "metadata": {},
   "outputs": [
    {
     "data": {
      "text/html": [
       "<div>\n",
       "<style scoped>\n",
       "    .dataframe tbody tr th:only-of-type {\n",
       "        vertical-align: middle;\n",
       "    }\n",
       "\n",
       "    .dataframe tbody tr th {\n",
       "        vertical-align: top;\n",
       "    }\n",
       "\n",
       "    .dataframe thead th {\n",
       "        text-align: right;\n",
       "    }\n",
       "</style>\n",
       "<table border=\"1\" class=\"dataframe\">\n",
       "  <thead>\n",
       "    <tr style=\"text-align: right;\">\n",
       "      <th></th>\n",
       "      <th>song_num</th>\n",
       "      <th>title</th>\n",
       "    </tr>\n",
       "  </thead>\n",
       "  <tbody>\n",
       "    <tr>\n",
       "      <th>226</th>\n",
       "      <td>98406</td>\n",
       "      <td>Intro/I'll Take Jesus</td>\n",
       "    </tr>\n",
       "    <tr>\n",
       "      <th>247</th>\n",
       "      <td>73908</td>\n",
       "      <td>Hold On I'm Coming</td>\n",
       "    </tr>\n",
       "    <tr>\n",
       "      <th>747</th>\n",
       "      <td>386919</td>\n",
       "      <td>Turn Around</td>\n",
       "    </tr>\n",
       "    <tr>\n",
       "      <th>824</th>\n",
       "      <td>222724</td>\n",
       "      <td>Dust Ballad</td>\n",
       "    </tr>\n",
       "    <tr>\n",
       "      <th>2858</th>\n",
       "      <td>221067</td>\n",
       "      <td>The Giraffe (Minimaril Cupcake Remix)</td>\n",
       "    </tr>\n",
       "    <tr>\n",
       "      <th>3256</th>\n",
       "      <td>563401</td>\n",
       "      <td>I Got a Man (Re-Recorded / Remastered)</td>\n",
       "    </tr>\n",
       "    <tr>\n",
       "      <th>5878</th>\n",
       "      <td>305368</td>\n",
       "      <td>Here I am</td>\n",
       "    </tr>\n",
       "    <tr>\n",
       "      <th>8214</th>\n",
       "      <td>205695</td>\n",
       "      <td>Escape</td>\n",
       "    </tr>\n",
       "    <tr>\n",
       "      <th>8669</th>\n",
       "      <td>75811</td>\n",
       "      <td>Soon Sealed</td>\n",
       "    </tr>\n",
       "    <tr>\n",
       "      <th>9139</th>\n",
       "      <td>653887</td>\n",
       "      <td>About Mine (feat. Mo'Betta_ A-Yes &amp; Fatal Lucc...</td>\n",
       "    </tr>\n",
       "  </tbody>\n",
       "</table>\n",
       "</div>"
      ],
      "text/plain": [
       "      song_num                                              title\n",
       "226      98406                              Intro/I'll Take Jesus\n",
       "247      73908                                 Hold On I'm Coming\n",
       "747     386919                                        Turn Around\n",
       "824     222724                                        Dust Ballad\n",
       "2858    221067              The Giraffe (Minimaril Cupcake Remix)\n",
       "3256    563401             I Got a Man (Re-Recorded / Remastered)\n",
       "5878    305368                                          Here I am\n",
       "8214    205695                                             Escape\n",
       "8669     75811                                        Soon Sealed\n",
       "9139    653887  About Mine (feat. Mo'Betta_ A-Yes & Fatal Lucc..."
      ]
     },
     "execution_count": 11,
     "metadata": {},
     "output_type": "execute_result"
    }
   ],
   "source": [
    "# filter the dataframe to get the song_num and title of the recommended songs\n",
    "df_song_sample[df_song_sample.index.isin(recommendations)][['song_num', 'title']]"
   ]
  },
  {
   "cell_type": "code",
   "execution_count": null,
   "metadata": {},
   "outputs": [],
   "source": [
    "# save the cosine similarity matrix and the song_num_index dictionary\n",
    "import pickle\n",
    "model = {'cosine_sim': cosine_sim, 'song_num_index': song_num_index, 'index_song_num': index_song_num}\n",
    "pickle.dump(model, open('./models/item_similarity.pkl', 'wb'))"
   ]
  }
 ],
 "metadata": {
  "kernelspec": {
   "display_name": "pytorch1.2",
   "language": "python",
   "name": "python3"
  },
  "language_info": {
   "codemirror_mode": {
    "name": "ipython",
    "version": 3
   },
   "file_extension": ".py",
   "mimetype": "text/x-python",
   "name": "python",
   "nbconvert_exporter": "python",
   "pygments_lexer": "ipython3",
   "version": "3.11.7"
  }
 },
 "nbformat": 4,
 "nbformat_minor": 2
}
