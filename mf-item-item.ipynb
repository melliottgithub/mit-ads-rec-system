{
 "cells": [
  {
   "cell_type": "markdown",
   "metadata": {},
   "source": [
    "## Collaborative Filtering: Item-Item with Matrix Factorization\n",
    "- Using SVD to factorize the item-item matrix\n",
    "- Matrix of 10,000 x 10,000 using 80% training data\n",
    "- Using play counts as the feature"
   ]
  },
  {
   "cell_type": "code",
   "execution_count": 38,
   "metadata": {},
   "outputs": [],
   "source": [
    "import random\n",
    "import pandas as pd\n",
    "from sklearn.decomposition import TruncatedSVD"
   ]
  },
  {
   "cell_type": "code",
   "execution_count": 8,
   "metadata": {},
   "outputs": [
    {
     "name": "stdout",
     "output_type": "stream",
     "text": [
      "<class 'pandas.core.frame.DataFrame'>\n",
      "RangeIndex: 42597082 entries, 0 to 42597081\n",
      "Data columns (total 3 columns):\n",
      " #   Column     Dtype\n",
      "---  ------     -----\n",
      " 0   song_num1  int32\n",
      " 1   song_num2  int32\n",
      " 2   plays      int32\n",
      "dtypes: int32(3)\n",
      "memory usage: 487.5 MB\n"
     ]
    }
   ],
   "source": [
    "df_song = pd.read_pickle('data/song_pairs.pkl')\n",
    "df_song.info()"
   ]
  },
  {
   "cell_type": "markdown",
   "metadata": {},
   "source": [
    "## Sample of data for matrix factorization"
   ]
  },
  {
   "cell_type": "code",
   "execution_count": 9,
   "metadata": {},
   "outputs": [
    {
     "name": "stdout",
     "output_type": "stream",
     "text": [
      "<class 'pandas.core.frame.DataFrame'>\n",
      "Index: 38337374 entries, 23692561 to 2794874\n",
      "Data columns (total 3 columns):\n",
      " #   Column     Dtype\n",
      "---  ------     -----\n",
      " 0   song_num1  int32\n",
      " 1   song_num2  int32\n",
      " 2   plays      int32\n",
      "dtypes: int32(3)\n",
      "memory usage: 731.2 MB\n"
     ]
    }
   ],
   "source": [
    "# create a dataframe with a sample of 80% of the data\n",
    "df_song_sample = df_song.sample(frac=0.9, random_state=42)\n",
    "df_song_sample.info()"
   ]
  },
  {
   "cell_type": "markdown",
   "metadata": {},
   "source": [
    "## Create song-song interaction matrix"
   ]
  },
  {
   "cell_type": "code",
   "execution_count": 10,
   "metadata": {},
   "outputs": [
    {
     "name": "stdout",
     "output_type": "stream",
     "text": [
      "<class 'pandas.core.frame.DataFrame'>\n",
      "Index: 10000 entries, 77 to 998882\n",
      "Columns: 10000 entries, 77 to 998882\n",
      "dtypes: float64(10000)\n",
      "memory usage: 763.0 MB\n"
     ]
    }
   ],
   "source": [
    "song_song = df_song_sample.pivot(index='song_num1', columns='song_num2', values='plays').fillna(0)\n",
    "song_song.info()"
   ]
  },
  {
   "cell_type": "code",
   "execution_count": 11,
   "metadata": {},
   "outputs": [
    {
     "data": {
      "text/html": [
       "<div>\n",
       "<style scoped>\n",
       "    .dataframe tbody tr th:only-of-type {\n",
       "        vertical-align: middle;\n",
       "    }\n",
       "\n",
       "    .dataframe tbody tr th {\n",
       "        vertical-align: top;\n",
       "    }\n",
       "\n",
       "    .dataframe thead th {\n",
       "        text-align: right;\n",
       "    }\n",
       "</style>\n",
       "<table border=\"1\" class=\"dataframe\">\n",
       "  <thead>\n",
       "    <tr style=\"text-align: right;\">\n",
       "      <th>song_num2</th>\n",
       "      <th>77</th>\n",
       "      <th>197</th>\n",
       "      <th>328</th>\n",
       "      <th>375</th>\n",
       "      <th>421</th>\n",
       "      <th>459</th>\n",
       "      <th>511</th>\n",
       "      <th>553</th>\n",
       "      <th>583</th>\n",
       "      <th>778</th>\n",
       "      <th>...</th>\n",
       "      <th>998152</th>\n",
       "      <th>998275</th>\n",
       "      <th>998388</th>\n",
       "      <th>998541</th>\n",
       "      <th>998697</th>\n",
       "      <th>998738</th>\n",
       "      <th>998755</th>\n",
       "      <th>998844</th>\n",
       "      <th>998870</th>\n",
       "      <th>998882</th>\n",
       "    </tr>\n",
       "    <tr>\n",
       "      <th>song_num1</th>\n",
       "      <th></th>\n",
       "      <th></th>\n",
       "      <th></th>\n",
       "      <th></th>\n",
       "      <th></th>\n",
       "      <th></th>\n",
       "      <th></th>\n",
       "      <th></th>\n",
       "      <th></th>\n",
       "      <th></th>\n",
       "      <th></th>\n",
       "      <th></th>\n",
       "      <th></th>\n",
       "      <th></th>\n",
       "      <th></th>\n",
       "      <th></th>\n",
       "      <th></th>\n",
       "      <th></th>\n",
       "      <th></th>\n",
       "      <th></th>\n",
       "      <th></th>\n",
       "    </tr>\n",
       "  </thead>\n",
       "  <tbody>\n",
       "    <tr>\n",
       "      <th>77</th>\n",
       "      <td>0.0</td>\n",
       "      <td>0.0</td>\n",
       "      <td>0.0</td>\n",
       "      <td>0.0</td>\n",
       "      <td>0.0</td>\n",
       "      <td>30.0</td>\n",
       "      <td>3.0</td>\n",
       "      <td>5.0</td>\n",
       "      <td>11.0</td>\n",
       "      <td>0.0</td>\n",
       "      <td>...</td>\n",
       "      <td>0.0</td>\n",
       "      <td>0.0</td>\n",
       "      <td>0.0</td>\n",
       "      <td>0.0</td>\n",
       "      <td>0.0</td>\n",
       "      <td>0.0</td>\n",
       "      <td>0.0</td>\n",
       "      <td>0.0</td>\n",
       "      <td>0.0</td>\n",
       "      <td>0.0</td>\n",
       "    </tr>\n",
       "    <tr>\n",
       "      <th>197</th>\n",
       "      <td>0.0</td>\n",
       "      <td>0.0</td>\n",
       "      <td>0.0</td>\n",
       "      <td>0.0</td>\n",
       "      <td>0.0</td>\n",
       "      <td>2.0</td>\n",
       "      <td>0.0</td>\n",
       "      <td>1.0</td>\n",
       "      <td>0.0</td>\n",
       "      <td>0.0</td>\n",
       "      <td>...</td>\n",
       "      <td>0.0</td>\n",
       "      <td>0.0</td>\n",
       "      <td>3.0</td>\n",
       "      <td>5.0</td>\n",
       "      <td>0.0</td>\n",
       "      <td>0.0</td>\n",
       "      <td>0.0</td>\n",
       "      <td>0.0</td>\n",
       "      <td>1.0</td>\n",
       "      <td>0.0</td>\n",
       "    </tr>\n",
       "    <tr>\n",
       "      <th>328</th>\n",
       "      <td>0.0</td>\n",
       "      <td>0.0</td>\n",
       "      <td>0.0</td>\n",
       "      <td>0.0</td>\n",
       "      <td>0.0</td>\n",
       "      <td>0.0</td>\n",
       "      <td>0.0</td>\n",
       "      <td>1.0</td>\n",
       "      <td>0.0</td>\n",
       "      <td>0.0</td>\n",
       "      <td>...</td>\n",
       "      <td>0.0</td>\n",
       "      <td>0.0</td>\n",
       "      <td>0.0</td>\n",
       "      <td>0.0</td>\n",
       "      <td>0.0</td>\n",
       "      <td>0.0</td>\n",
       "      <td>5.0</td>\n",
       "      <td>0.0</td>\n",
       "      <td>0.0</td>\n",
       "      <td>1.0</td>\n",
       "    </tr>\n",
       "  </tbody>\n",
       "</table>\n",
       "<p>3 rows × 10000 columns</p>\n",
       "</div>"
      ],
      "text/plain": [
       "song_num2  77      197     328     375     421     459     511     553     \\\n",
       "song_num1                                                                   \n",
       "77            0.0     0.0     0.0     0.0     0.0    30.0     3.0     5.0   \n",
       "197           0.0     0.0     0.0     0.0     0.0     2.0     0.0     1.0   \n",
       "328           0.0     0.0     0.0     0.0     0.0     0.0     0.0     1.0   \n",
       "\n",
       "song_num2  583     778     ...  998152  998275  998388  998541  998697  \\\n",
       "song_num1                  ...                                           \n",
       "77           11.0     0.0  ...     0.0     0.0     0.0     0.0     0.0   \n",
       "197           0.0     0.0  ...     0.0     0.0     3.0     5.0     0.0   \n",
       "328           0.0     0.0  ...     0.0     0.0     0.0     0.0     0.0   \n",
       "\n",
       "song_num2  998738  998755  998844  998870  998882  \n",
       "song_num1                                          \n",
       "77            0.0     0.0     0.0     0.0     0.0  \n",
       "197           0.0     0.0     0.0     1.0     0.0  \n",
       "328           0.0     5.0     0.0     0.0     1.0  \n",
       "\n",
       "[3 rows x 10000 columns]"
      ]
     },
     "execution_count": 11,
     "metadata": {},
     "output_type": "execute_result"
    }
   ],
   "source": [
    "song_song.head(3)"
   ]
  },
  {
   "cell_type": "markdown",
   "metadata": {},
   "source": [
    "## Factorize the matrix using SVD"
   ]
  },
  {
   "cell_type": "code",
   "execution_count": 12,
   "metadata": {},
   "outputs": [
    {
     "name": "stdout",
     "output_type": "stream",
     "text": [
      "Explained variance ratio 0.9181805847596275\n"
     ]
    }
   ],
   "source": [
    "# Perform Truncated SVD with 100 latent features\n",
    "svd = TruncatedSVD(n_components=100, random_state=42)\n",
    "user_factors = svd.fit_transform(song_song)\n",
    "song_factors = svd.components_ # svd.components_.T\n",
    "\n",
    "print('Explained variance ratio', svd.explained_variance_ratio_.sum())\n",
    "\n",
    "#song_song = None # save memory"
   ]
  },
  {
   "cell_type": "markdown",
   "metadata": {},
   "source": [
    "## Using factorization to predict recommendations"
   ]
  },
  {
   "cell_type": "code",
   "execution_count": 47,
   "metadata": {},
   "outputs": [
    {
     "name": "stdout",
     "output_type": "stream",
     "text": [
      "<class 'pandas.core.frame.DataFrame'>\n",
      "RangeIndex: 999056 entries, 0 to 999055\n",
      "Data columns (total 5 columns):\n",
      " #   Column       Non-Null Count   Dtype \n",
      "---  ------       --------------   ----- \n",
      " 0   song_num     999056 non-null  int32 \n",
      " 1   title        999041 non-null  object\n",
      " 2   release      999056 non-null  object\n",
      " 3   artist_name  999056 non-null  object\n",
      " 4   year         999056 non-null  int32 \n",
      "dtypes: int32(2), object(3)\n",
      "memory usage: 30.5+ MB\n"
     ]
    }
   ],
   "source": [
    "df_song_list = pd.read_pickle('data/song_cleaned.pkl')\n",
    "df_song_list.info()"
   ]
  },
  {
   "cell_type": "code",
   "execution_count": null,
   "metadata": {},
   "outputs": [],
   "source": [
    "df_song_list[df_song_list['song_num'].isin(song_song.index) & df_song_list['artist_name'].str.contains('U2')].head(3)"
   ]
  },
  {
   "cell_type": "code",
   "execution_count": 60,
   "metadata": {},
   "outputs": [],
   "source": [
    "def recommend_songs(row_id, top_n=10):\n",
    "  user_index = song_song.index.get_loc(row_id)\n",
    "  user_vector = user_factors[user_index]\n",
    "  song_scores = user_vector.dot(song_factors)\n",
    "  song_recommendations = song_scores.argsort()[::-1][:top_n]\n",
    "  return song_recommendations"
   ]
  },
  {
   "cell_type": "code",
   "execution_count": 90,
   "metadata": {},
   "outputs": [
    {
     "name": "stdout",
     "output_type": "stream",
     "text": [
      "Recommended songs based on song 430705 - Second Heartbeat - Avenged Sevenfold:\n",
      "4255 - Outta My Mind - The Last Vegas\n",
      "4035 - Staring At The Sun - Chesney Hawkes\n",
      "6409 - Banks Of The Roses - Dublin City Ramblers\n",
      "3160 - Je Te Veux - Valentina Madonna\n",
      "5089 - Pigmeat Blues - Georgia White\n",
      "739 - En Una Ensonación - Lino Borges\n",
      "6410 - Step with Jungle Roots - Fire Ball\n",
      "294 - Pocket Revolution - dEUS\n",
      "9054 - El amor que me das - David deMaria\n",
      "5801 - Feeling That - Nôze\n"
     ]
    }
   ],
   "source": [
    "# Example usage\n",
    "song_num = random.choice(song_song.index)\n",
    "song_data = df_song_list[df_song_list.song_num == song_num]\n",
    "\n",
    "song_recommendations = recommend_songs(song_num)\n",
    "print(f\"Recommended songs based on song {song_num} - {song_data.title.values[0]} - {song_data.artist_name.values[0]}:\")\n",
    "\n",
    "for song in song_recommendations:\n",
    "  song_data = df_song_list[df_song_list.song_num == song]\n",
    "  print(f\"{song_data.song_num.values[0]} - {song_data.title.values[0]} - {song_data.artist_name.values[0]}\")\n",
    "\n"
   ]
  }
 ],
 "metadata": {
  "kernelspec": {
   "display_name": "ml-models",
   "language": "python",
   "name": "python3"
  },
  "language_info": {
   "codemirror_mode": {
    "name": "ipython",
    "version": 3
   },
   "file_extension": ".py",
   "mimetype": "text/x-python",
   "name": "python",
   "nbconvert_exporter": "python",
   "pygments_lexer": "ipython3",
   "version": "3.11.5"
  }
 },
 "nbformat": 4,
 "nbformat_minor": 2
}
