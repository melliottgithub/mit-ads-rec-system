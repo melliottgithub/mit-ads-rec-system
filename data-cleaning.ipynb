{
 "cells": [
  {
   "cell_type": "markdown",
   "metadata": {},
   "source": [
    "# Dataset cleaning\n",
    "\n",
    "## Data Set Description\n",
    "\n",
    "**Categorial features**\n",
    "\n",
    "- **artist**: a person or group that creates music. Only `artist name` is available in the dataset.\n",
    "- **release**: one song (single) a collection of songs (album). Only `release` name is available in the dataset.\n",
    "- **year** (of release): the `year` the song was released.\n",
    "- **song**: a musical composition. `Title` and `song ID` is available in the dataset.\n",
    "- **user**: a person who listens to music. Only `user ID` is available in the dataset.\n",
    "\n",
    "**Numerical features**\n",
    "\n",
    "- **play count**: the number of times a song was played by a user. This is given as total `play count` for each song by each user.\n",
    "\n",
    "![Data Model Overview](images/data-model-overview.png)\n",
    "\n",
    "\n",
    "- See [setup](SETUP.md) instructions."
   ]
  },
  {
   "cell_type": "markdown",
   "metadata": {},
   "source": [
    "## Donwloding the dataset"
   ]
  },
  {
   "cell_type": "code",
   "execution_count": 1,
   "metadata": {},
   "outputs": [
    {
     "name": "stdout",
     "output_type": "stream",
     "text": [
      "Error downloading zip file: <urlopen error [Errno -2] Name or service not known>\n"
     ]
    }
   ],
   "source": [
    "import urllib.request\n",
    "url = 'https://<bucket>.s3.amazonaws.com/music-rec-dataset.zip'\n",
    "filename = url.split('/')[-1]\n",
    "try:\n",
    "  with urllib.request.urlopen(url) as response, open(filename, 'wb') as out_file:\n",
    "    data = response.read()\n",
    "    out_file.write(data)\n",
    "  # unzip using Python library\n",
    "  import zipfile\n",
    "  with zipfile.ZipFile(filename, 'r') as zip_ref:\n",
    "    zip_ref.extractall('.')\n",
    "  \n",
    "  print(f'Zip file downloaded successfully to {filename}')\n",
    "except Exception as e:\n",
    "  print(f'Error downloading zip file: {e}')"
   ]
  },
  {
   "cell_type": "code",
   "execution_count": 2,
   "metadata": {},
   "outputs": [],
   "source": [
    "import duckdb"
   ]
  },
  {
   "cell_type": "code",
   "execution_count": 3,
   "metadata": {},
   "outputs": [],
   "source": [
    "db = duckdb.default_connection # use the default in-memory database\n",
    "songs = db.read_csv('./dataset/song_data.csv')\n",
    "plays = db.read_csv('./dataset/count_data.csv')"
   ]
  },
  {
   "cell_type": "markdown",
   "metadata": {},
   "source": [
    "## Songs\n",
    "- Counting rows and unique song_ids indicates that there are repeated song_ids in the dataset.\n",
    "- There are multiple titles and releases per song_id, indicating that the same song_id can have different titles and releases."
   ]
  },
  {
   "cell_type": "code",
   "execution_count": 4,
   "metadata": {},
   "outputs": [
    {
     "name": "stdout",
     "output_type": "stream",
     "text": [
      "┌────────────────────┬───────────────────┬───────────────────────┬──────────────────┬───────┐\n",
      "│      song_id       │       title       │        release        │   artist_name    │ year  │\n",
      "│      varchar       │      varchar      │        varchar        │     varchar      │ int64 │\n",
      "├────────────────────┼───────────────────┼───────────────────────┼──────────────────┼───────┤\n",
      "│ SOQMMHC12AB0180CB8 │ Silent Night      │ Monster Ballads X-Mas │ Faster Pussy cat │  2003 │\n",
      "│ SOVFVAK12A8C1350D9 │ Tanssi vaan       │ Karkuteillä           │ Karkkiautomaatti │  1995 │\n",
      "│ SOGTUKN12AB017F4F1 │ No One Could Ever │ Butter                │ Hudson Mohawke   │  2006 │\n",
      "└────────────────────┴───────────────────┴───────────────────────┴──────────────────┴───────┘\n",
      "\n"
     ]
    }
   ],
   "source": [
    "songs.limit(3).show()"
   ]
  },
  {
   "cell_type": "markdown",
   "metadata": {},
   "source": [
    "### Checking for nulls\n",
    "- There are 15 nulls in the dataset for the title column."
   ]
  },
  {
   "cell_type": "code",
   "execution_count": 5,
   "metadata": {},
   "outputs": [
    {
     "name": "stdout",
     "output_type": "stream",
     "text": [
      "┌────────────┬──────────────┬──────────────────┬───────────┐\n",
      "│ null_title │ null_release │ null_artist_name │ null_year │\n",
      "│   int64    │    int64     │      int64       │   int64   │\n",
      "├────────────┼──────────────┼──────────────────┼───────────┤\n",
      "│         15 │            0 │                0 │         0 │\n",
      "└────────────┴──────────────┴──────────────────┴───────────┘\n",
      "\n"
     ]
    }
   ],
   "source": [
    "sql = \"\"\"\n",
    "SELECT count(*)-count(title) as null_title,\n",
    "count(*)-count(release) as null_release,\n",
    "count(*)-count(artist_name) as null_artist_name,\n",
    "count(*)-count(year) as null_year\n",
    "FROM songs \n",
    "WHERE title IS NULL OR release IS NULL OR artist_name IS NULL OR year IS NULL\n",
    "\"\"\"\n",
    "db.query(sql).show()"
   ]
  },
  {
   "cell_type": "markdown",
   "metadata": {},
   "source": [
    "### Counting of rows and assessing the cardinality of main columns\n",
    "- **Total Rows:** There are 1,000,000 rows in the dataset.\n",
    "- **Unique Song IDs:** There are 999,056 unique song IDs, indicating that some song IDs are duplicated.\n",
    "- **Unique Titles:** The dataset contains 702,428 unique titles. This suggests that there are multiple entries with the same title, which could be different versions of the same song, covers, or simply songs with identical titles by different artists.\n",
    "- **Unique Releases:** There are 149,289 unique release identifiers\n",
    "- **Unique Artist Names:** There are 72,665 unique artist names in the dataset."
   ]
  },
  {
   "cell_type": "code",
   "execution_count": 6,
   "metadata": {},
   "outputs": [
    {
     "name": "stdout",
     "output_type": "stream",
     "text": [
      "┌─────────┬───────────────┬─────────────┬───────────────┬───────────────────┐\n",
      "│   cnt   │ song_id_uniqs │ title_uniqs │ release_uniqs │ artist_name_uniqs │\n",
      "│  int64  │     int64     │    int64    │     int64     │       int64       │\n",
      "├─────────┼───────────────┼─────────────┼───────────────┼───────────────────┤\n",
      "│ 1000000 │        999056 │      702428 │        149289 │             72665 │\n",
      "└─────────┴───────────────┴─────────────┴───────────────┴───────────────────┘\n",
      "\n"
     ]
    }
   ],
   "source": [
    "sql = \"\"\"\n",
    "SELECT count(*) cnt, count(DISTINCT song_id) song_id_uniqs,\n",
    "count(DISTINCT title) title_uniqs,\n",
    "count(DISTINCT release) release_uniqs,\n",
    "count(DISTINCT artist_name) artist_name_uniqs\n",
    "FROM songs\n",
    "\"\"\"\n",
    "db.query(sql).show()"
   ]
  },
  {
   "cell_type": "markdown",
   "metadata": {},
   "source": [
    "### Check for repeated titles and releases for the same song_id"
   ]
  },
  {
   "cell_type": "code",
   "execution_count": 7,
   "metadata": {},
   "outputs": [
    {
     "name": "stdout",
     "output_type": "stream",
     "text": [
      "┌────────────────────────┬────────────────────────┬──────────────────────────┬──────────────────────────┐\n",
      "│ max(title_per_song_id) │ title_per_song_id_gt_1 │ max(release_per_song_id) │ release_per_song_id_gt_1 │\n",
      "│         int64          │         int128         │          int64           │          int128          │\n",
      "├────────────────────────┼────────────────────────┼──────────────────────────┼──────────────────────────┤\n",
      "│                      3 │                    120 │                        3 │                      381 │\n",
      "└────────────────────────┴────────────────────────┴──────────────────────────┴──────────────────────────┘\n",
      "\n"
     ]
    }
   ],
   "source": [
    "sql = \"\"\"\n",
    "SELECT MAX(title_per_song_id), SUM(IF(title_per_song_id > 1, 1, 0)) title_per_song_id_gt_1,\n",
    "MAX(release_per_song_id), SUM(IF(release_per_song_id > 1, 1, 0)) release_per_song_id_gt_1\n",
    "FROM (\n",
    "    SELECT song_id, count(DISTINCT title) title_per_song_id, count(DISTINCT release) release_per_song_id \n",
    "    FROM songs\n",
    "    GROUP BY song_id\n",
    "    HAVING count(DISTINCT title) > 1 OR count(DISTINCT release) > 1    \n",
    ")\n",
    "\"\"\"\n",
    "db.query(sql).show()"
   ]
  },
  {
   "cell_type": "markdown",
   "metadata": {},
   "source": [
    "### Create a songs table aggregated by song_id"
   ]
  },
  {
   "cell_type": "code",
   "execution_count": 8,
   "metadata": {},
   "outputs": [
    {
     "data": {
      "text/plain": [
       "<duckdb.duckdb.DuckDBPyConnection at 0x7f9ccc67c3b0>"
      ]
     },
     "execution_count": 8,
     "metadata": {},
     "output_type": "execute_result"
    }
   ],
   "source": [
    "sql = \"\"\"\n",
    "CREATE OR REPLACE TABLE songs_cleaned AS\n",
    "SELECT CAST(row_number() OVER () as INTEGER) as song_num,\n",
    "song_id, string_agg(title) title, string_agg(release) as release,\n",
    "MAX(artist_name) as artist_name, CAST(MAX(year) as INTEGER) as year\n",
    "FROM songs\n",
    "GROUP BY song_id\n",
    "\"\"\"\n",
    "db.execute(sql)"
   ]
  },
  {
   "cell_type": "code",
   "execution_count": 9,
   "metadata": {},
   "outputs": [
    {
     "name": "stdout",
     "output_type": "stream",
     "text": [
      "┌────────┬───────────────┬─────────────┬───────────────┬───────────────────┐\n",
      "│  cnt   │ song_id_uniqs │ title_uniqs │ release_uniqs │ artist_name_uniqs │\n",
      "│ int64  │     int64     │    int64    │     int64     │       int64       │\n",
      "├────────┼───────────────┼─────────────┼───────────────┼───────────────────┤\n",
      "│ 999056 │        999056 │      702834 │        149695 │             72656 │\n",
      "└────────┴───────────────┴─────────────┴───────────────┴───────────────────┘\n",
      "\n"
     ]
    }
   ],
   "source": [
    "sql = \"\"\"\n",
    "SELECT count(*) cnt, count(DISTINCT song_id) song_id_uniqs,\n",
    "count(DISTINCT title) title_uniqs,\n",
    "count(DISTINCT release) release_uniqs,\n",
    "count(DISTINCT artist_name) artist_name_uniqs\n",
    "FROM songs_cleaned\n",
    "\"\"\"\n",
    "db.query(sql).show()"
   ]
  },
  {
   "cell_type": "markdown",
   "metadata": {},
   "source": [
    "### Creating a clean Pandas DataFrame"
   ]
  },
  {
   "cell_type": "code",
   "execution_count": 10,
   "metadata": {},
   "outputs": [
    {
     "name": "stderr",
     "output_type": "stream",
     "text": [
      "/tmp/ipykernel_4160/3657260639.py:1: DeprecationWarning: \n",
      "Pyarrow will become a required dependency of pandas in the next major release of pandas (pandas 3.0),\n",
      "(to allow more performant data types, such as the Arrow string type, and better interoperability with other libraries)\n",
      "but was not found to be installed on your system.\n",
      "If this would cause problems for you,\n",
      "please provide us feedback at https://github.com/pandas-dev/pandas/issues/54466\n",
      "        \n",
      "  df_song = db.query('SELECT song_num, title, release, artist_name, year FROM songs_cleaned').df()\n"
     ]
    },
    {
     "name": "stdout",
     "output_type": "stream",
     "text": [
      "<class 'pandas.core.frame.DataFrame'>\n",
      "RangeIndex: 999056 entries, 0 to 999055\n",
      "Data columns (total 5 columns):\n",
      " #   Column       Non-Null Count   Dtype \n",
      "---  ------       --------------   ----- \n",
      " 0   song_num     999056 non-null  int32 \n",
      " 1   title        999041 non-null  object\n",
      " 2   release      999056 non-null  object\n",
      " 3   artist_name  999056 non-null  object\n",
      " 4   year         999056 non-null  int32 \n",
      "dtypes: int32(2), object(3)\n",
      "memory usage: 30.5+ MB\n"
     ]
    }
   ],
   "source": [
    "df_song = db.query('SELECT song_num, title, release, artist_name, year FROM songs_cleaned').df()\n",
    "df_song.to_pickle('./data/song_cleaned.pkl')\n",
    "df_song.info()"
   ]
  },
  {
   "cell_type": "markdown",
   "metadata": {},
   "source": [
    "## Song Plays\n",
    "- There is play data for only 10,000 songs.\n",
    "- The play count had some extreme values that were clipped.\n",
    "- Verified referential integrity between plays and songs using aggregated song data (where song_id is unique)."
   ]
  },
  {
   "cell_type": "code",
   "execution_count": 11,
   "metadata": {},
   "outputs": [
    {
     "name": "stdout",
     "output_type": "stream",
     "text": [
      "┌─────────┬──────────────────────────────────────────┬────────────────────┬────────────┐\n",
      "│ column0 │                 user_id                  │      song_id       │ play_count │\n",
      "│  int64  │                 varchar                  │      varchar       │   int64    │\n",
      "├─────────┼──────────────────────────────────────────┼────────────────────┼────────────┤\n",
      "│       0 │ b80344d063b5ccb3212f76538f3d9e43d87dca9e │ SOAKIMP12A8C130995 │          1 │\n",
      "│       1 │ b80344d063b5ccb3212f76538f3d9e43d87dca9e │ SOBBMDR12A8C13253B │          2 │\n",
      "│       2 │ b80344d063b5ccb3212f76538f3d9e43d87dca9e │ SOBXHDL12A81C204C0 │          1 │\n",
      "└─────────┴──────────────────────────────────────────┴────────────────────┴────────────┘\n",
      "\n"
     ]
    }
   ],
   "source": [
    "plays.limit(3).show()"
   ]
  },
  {
   "cell_type": "code",
   "execution_count": 12,
   "metadata": {},
   "outputs": [
    {
     "name": "stdout",
     "output_type": "stream",
     "text": [
      "┌─────────┬───────────────┬───────────────┬─────────────────┬─────────────────┬─────────────────┐\n",
      "│   cnt   │ user_id_uniqs │ song_id_uniqs │ min(play_count) │ max(play_count) │ avg(play_count) │\n",
      "│  int64  │     int64     │     int64     │      int64      │      int64      │     double      │\n",
      "├─────────┼───────────────┼───────────────┼─────────────────┼─────────────────┼─────────────────┤\n",
      "│ 2000000 │         76353 │         10000 │               1 │            2213 │       3.0454845 │\n",
      "└─────────┴───────────────┴───────────────┴─────────────────┴─────────────────┴─────────────────┘\n",
      "\n"
     ]
    }
   ],
   "source": [
    "sql = \"\"\"\n",
    "SELECT count(*) cnt,\n",
    "count(DISTINCT user_id) user_id_uniqs,\n",
    "count(DISTINCT song_id) song_id_uniqs,\n",
    "min(play_count), max(play_count), avg(play_count)\n",
    "FROM plays\n",
    "\"\"\"\n",
    "db.query(sql).show()"
   ]
  },
  {
   "cell_type": "markdown",
   "metadata": {},
   "source": [
    "### Calculting percentile 99 for cliping play_count"
   ]
  },
  {
   "cell_type": "code",
   "execution_count": 13,
   "metadata": {},
   "outputs": [
    {
     "name": "stdout",
     "output_type": "stream",
     "text": [
      "Percentile 99 of play_count: 26.0\n"
     ]
    }
   ],
   "source": [
    "sql = \"\"\"\n",
    "SELECT percentile_cont(0.99) WITHIN GROUP (ORDER BY play_count) as p99\n",
    "FROM plays\n",
    "\"\"\"\n",
    "play_count_p99 = db.query(sql).fetchone()[0]\n",
    "print('Percentile 99 of play_count:', play_count_p99)"
   ]
  },
  {
   "cell_type": "code",
   "execution_count": 14,
   "metadata": {},
   "outputs": [
    {
     "name": "stdout",
     "output_type": "stream",
     "text": [
      "┌──────────┬──────────────────────────────────────────┐\n",
      "│ user_num │                 user_id                  │\n",
      "│  int32   │                 varchar                  │\n",
      "├──────────┼──────────────────────────────────────────┤\n",
      "│        1 │ c8b3e4c47bbb781d7da815cabe7fe6218a19233e │\n",
      "│        2 │ 4141af0f52186d495d9a77e1dd099bd3d9f8e66a │\n",
      "│        3 │ cfbf5a6f56cc0c00a2426cadfb2eff38ca36979c │\n",
      "└──────────┴──────────────────────────────────────────┘\n",
      "\n"
     ]
    }
   ],
   "source": [
    "sql = \"\"\"\n",
    "CREATE OR REPLACE TABLE users AS\n",
    "SELECT CAST(row_number() OVER () as INTEGER) as user_num, user_id\n",
    "FROM plays\n",
    "GROUP BY user_id\n",
    "\"\"\"\n",
    "db.execute(sql)\n",
    "db.query('select * from users').limit(3).show()"
   ]
  },
  {
   "cell_type": "code",
   "execution_count": 15,
   "metadata": {},
   "outputs": [
    {
     "name": "stdout",
     "output_type": "stream",
     "text": [
      "┌──────────┬──────────┬────────────┐\n",
      "│ user_num │ song_num │ play_count │\n",
      "│  int32   │  int32   │   int64    │\n",
      "├──────────┼──────────┼────────────┤\n",
      "│    75922 │   368656 │          1 │\n",
      "│    76166 │   368741 │          1 │\n",
      "│    76235 │   368853 │         17 │\n",
      "└──────────┴──────────┴────────────┘\n",
      "\n"
     ]
    }
   ],
   "source": [
    "sql = f\"\"\"\n",
    "CREATE OR REPLACE TABLE plays_cleaned AS\n",
    "SELECT u.user_num, s.song_num, \n",
    "least(p.play_count, CAST({play_count_p99} AS BIGINT)) as play_count\n",
    "FROM plays p\n",
    "INNER JOIN songs_cleaned s ON p.song_id = s.song_id\n",
    "INNER JOIN users u ON p.user_id = u.user_id\n",
    "\"\"\"\n",
    "db.execute(sql)\n",
    "db.query('select * from plays_cleaned').limit(3).show()"
   ]
  },
  {
   "cell_type": "markdown",
   "metadata": {},
   "source": [
    "### Creating a clean Pandas DataFrame"
   ]
  },
  {
   "cell_type": "code",
   "execution_count": 16,
   "metadata": {},
   "outputs": [
    {
     "name": "stdout",
     "output_type": "stream",
     "text": [
      "<class 'pandas.core.frame.DataFrame'>\n",
      "RangeIndex: 2000000 entries, 0 to 1999999\n",
      "Data columns (total 3 columns):\n",
      " #   Column      Dtype\n",
      "---  ------      -----\n",
      " 0   user_num    int32\n",
      " 1   song_num    int32\n",
      " 2   play_count  int64\n",
      "dtypes: int32(2), int64(1)\n",
      "memory usage: 30.5 MB\n"
     ]
    }
   ],
   "source": [
    "df_play = db.query('select * from plays_cleaned').df()\n",
    "df_play.to_pickle('./data/play_cleaned.pkl')\n",
    "df_play.info()"
   ]
  },
  {
   "cell_type": "markdown",
   "metadata": {},
   "source": [
    "## Cross item - song pairs"
   ]
  },
  {
   "cell_type": "code",
   "execution_count": 17,
   "metadata": {},
   "outputs": [
    {
     "name": "stdout",
     "output_type": "stream",
     "text": [
      "┌──────────┐\n",
      "│   cnt    │\n",
      "│  int64   │\n",
      "├──────────┤\n",
      "│ 42597082 │\n",
      "└──────────┘\n",
      "\n"
     ]
    }
   ],
   "source": [
    "sql = \"\"\"\n",
    "CREATE OR REPLACE TABLE song_pairs AS\n",
    "SELECT p1.song_num song_num1, p2.song_num song_num2, \n",
    "CAST(sum(p2.play_count) AS INTEGER) plays,\n",
    "CAST(COUNT(DISTINCT p2.user_num) AS INTEGER) users\n",
    "FROM plays_cleaned p1\n",
    "INNER JOIN plays_cleaned p2 ON p1.user_num = p2.user_num\n",
    "WHERE p1.song_num != p2.song_num\n",
    "GROUP BY p1.song_num, p2.song_num\n",
    "\"\"\"\n",
    "db.execute(sql)\n",
    "db.query(\"SELECT count(*) cnt FROM song_pairs\").show()"
   ]
  },
  {
   "cell_type": "code",
   "execution_count": 18,
   "metadata": {},
   "outputs": [
    {
     "name": "stdout",
     "output_type": "stream",
     "text": [
      "<class 'pandas.core.frame.DataFrame'>\n",
      "RangeIndex: 42597082 entries, 0 to 42597081\n",
      "Data columns (total 4 columns):\n",
      " #   Column     Dtype\n",
      "---  ------     -----\n",
      " 0   song_num1  int32\n",
      " 1   song_num2  int32\n",
      " 2   plays      int32\n",
      " 3   users      int32\n",
      "dtypes: int32(4)\n",
      "memory usage: 650.0 MB\n"
     ]
    }
   ],
   "source": [
    "df_song_pairs = db.query(\"SELECT * cnt FROM song_pairs\").df()\n",
    "df_song_pairs.to_pickle('./data/song_pairs.pkl')\n",
    "df_song_pairs.info()"
   ]
  },
  {
   "cell_type": "code",
   "execution_count": 19,
   "metadata": {},
   "outputs": [],
   "source": [
    "df_song_pairs = None # free memory"
   ]
  },
  {
   "cell_type": "markdown",
   "metadata": {},
   "source": [
    "### Creating a User (summary) DataFrame"
   ]
  },
  {
   "cell_type": "code",
   "execution_count": 20,
   "metadata": {},
   "outputs": [
    {
     "name": "stdout",
     "output_type": "stream",
     "text": [
      "<class 'pandas.core.frame.DataFrame'>\n",
      "RangeIndex: 76353 entries, 0 to 76352\n",
      "Data columns (total 5 columns):\n",
      " #   Column         Non-Null Count  Dtype\n",
      "---  ------         --------------  -----\n",
      " 0   user_num       76353 non-null  int32\n",
      " 1   artist_count   76353 non-null  int64\n",
      " 2   title_count    76353 non-null  int64\n",
      " 3   release_count  76353 non-null  int64\n",
      " 4   year_count     76353 non-null  int64\n",
      "dtypes: int32(1), int64(4)\n",
      "memory usage: 2.6 MB\n"
     ]
    }
   ],
   "source": [
    "sql = \"\"\"\n",
    "SELECT user_num, \n",
    "count(DISTINCT s.artist_name) artist_count,\n",
    "count(DISTINCT s.title) title_count,\n",
    "count(DISTINCT s.release) release_count,\n",
    "count(DISTINCT s.year) year_count\n",
    "FROM plays_cleaned p\n",
    "INNER JOIN songs_cleaned s ON p.song_num = s.song_num\n",
    "GROUP BY user_num\n",
    "\"\"\"\n",
    "df_user = db.query(sql).df()\n",
    "df_user.to_pickle('./data/user.pkl')\n",
    "df_user.info()"
   ]
  },
  {
   "cell_type": "markdown",
   "metadata": {},
   "source": [
    "## Create a Song (summary) DataFrame"
   ]
  },
  {
   "cell_type": "code",
   "execution_count": 21,
   "metadata": {},
   "outputs": [
    {
     "name": "stdout",
     "output_type": "stream",
     "text": [
      "<class 'pandas.core.frame.DataFrame'>\n",
      "RangeIndex: 10000 entries, 0 to 9999\n",
      "Data columns (total 3 columns):\n",
      " #   Column      Non-Null Count  Dtype  \n",
      "---  ------      --------------  -----  \n",
      " 0   song_num    10000 non-null  int32  \n",
      " 1   user_count  10000 non-null  int64  \n",
      " 2   play_count  10000 non-null  float64\n",
      "dtypes: float64(1), int32(1), int64(1)\n",
      "memory usage: 195.4 KB\n"
     ]
    }
   ],
   "source": [
    "sql = \"\"\"\n",
    "SELECT p.song_num, \n",
    "count(DISTINCT p.user_num) user_count,\n",
    "sum(p.play_count) play_count,\n",
    "FROM plays_cleaned p\n",
    "INNER JOIN songs_cleaned s ON p.song_num = s.song_num\n",
    "GROUP BY p.song_num\n",
    "\"\"\"\n",
    "df_user = db.query(sql).df()\n",
    "df_user.to_pickle('./data/song_summary.pkl')\n",
    "df_user.info()"
   ]
  },
  {
   "cell_type": "markdown",
   "metadata": {},
   "source": [
    "## Cross User-User pairs"
   ]
  },
  {
   "cell_type": "code",
   "execution_count": 22,
   "metadata": {},
   "outputs": [
    {
     "name": "stdout",
     "output_type": "stream",
     "text": [
      "┌───────────┐\n",
      "│    cnt    │\n",
      "│   int64   │\n",
      "├───────────┤\n",
      "│ 769868292 │\n",
      "└───────────┘\n",
      "\n"
     ]
    }
   ],
   "source": [
    "sql = \"\"\"\n",
    "CREATE OR REPLACE TABLE user_pairs AS\n",
    "SELECT p1.user_num user_num1, p2.user_num user_num2, \n",
    "CAST(sum(p2.play_count) AS INTEGER) plays,\n",
    "CAST(COUNT(DISTINCT p2.song_num) AS INTEGER) songs\n",
    "FROM plays_cleaned p1\n",
    "INNER JOIN plays_cleaned p2 ON p1.song_num = p2.song_num\n",
    "WHERE p1.user_num != p2.user_num\n",
    "GROUP BY p1.user_num, p2.user_num\n",
    "\"\"\"\n",
    "db.execute(sql)\n",
    "db.query(\"SELECT count(*) cnt FROM user_pairs\").show()"
   ]
  },
  {
   "cell_type": "code",
   "execution_count": 23,
   "metadata": {},
   "outputs": [
    {
     "name": "stdout",
     "output_type": "stream",
     "text": [
      "┌───────────┐\n",
      "│    cnt    │\n",
      "│   int64   │\n",
      "├───────────┤\n",
      "│ 769868292 │\n",
      "└───────────┘\n",
      "\n"
     ]
    }
   ],
   "source": [
    "db.query(\"SELECT count(*) cnt FROM user_pairs\").show()"
   ]
  },
  {
   "cell_type": "code",
   "execution_count": 24,
   "metadata": {},
   "outputs": [
    {
     "name": "stdout",
     "output_type": "stream",
     "text": [
      "<class 'pandas.core.frame.DataFrame'>\n",
      "RangeIndex: 769868292 entries, 0 to 769868291\n",
      "Data columns (total 4 columns):\n",
      " #   Column     Dtype\n",
      "---  ------     -----\n",
      " 0   user_num1  int32\n",
      " 1   user_num2  int32\n",
      " 2   plays      int32\n",
      " 3   songs      int32\n",
      "dtypes: int32(4)\n",
      "memory usage: 11.5 GB\n"
     ]
    }
   ],
   "source": [
    "df_user_pairs = db.query(\"SELECT * cnt FROM user_pairs\").df()\n",
    "df_user_pairs.to_pickle('./data/user_pairs.pkl')\n",
    "df_user_pairs.info()"
   ]
  },
  {
   "cell_type": "code",
   "execution_count": null,
   "metadata": {},
   "outputs": [],
   "source": [
    "db.close()"
   ]
  }
 ],
 "metadata": {
  "kernelspec": {
   "display_name": "Python 3 (ipykernel)",
   "language": "python",
   "name": "python3"
  },
  "language_info": {
   "codemirror_mode": {
    "name": "ipython",
    "version": 3
   },
   "file_extension": ".py",
   "mimetype": "text/x-python",
   "name": "python",
   "nbconvert_exporter": "python",
   "pygments_lexer": "ipython3",
   "version": "3.11.8"
  }
 },
 "nbformat": 4,
 "nbformat_minor": 2
}
