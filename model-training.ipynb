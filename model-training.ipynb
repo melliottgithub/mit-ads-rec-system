{
 "cells": [
  {
   "cell_type": "markdown",
   "metadata": {},
   "source": [
    "# Model Training"
   ]
  },
  {
   "cell_type": "code",
   "execution_count": 30,
   "metadata": {},
   "outputs": [],
   "source": [
    "import pandas as pd\n",
    "from surprise import SVD, NMF, Dataset, Reader\n",
    "from surprise.model_selection import cross_validate"
   ]
  },
  {
   "cell_type": "code",
   "execution_count": 2,
   "metadata": {},
   "outputs": [
    {
     "name": "stdout",
     "output_type": "stream",
     "text": [
      "<class 'pandas.core.frame.DataFrame'>\n",
      "Index: 7698683 entries, 117720890 to 87989261\n",
      "Data columns (total 4 columns):\n",
      " #   Column     Dtype\n",
      "---  ------     -----\n",
      " 0   user_num1  int32\n",
      " 1   user_num2  int32\n",
      " 2   plays      int32\n",
      " 3   songs      int32\n",
      "dtypes: int32(4)\n",
      "memory usage: 176.2 MB\n"
     ]
    }
   ],
   "source": [
    "df_user_pairs = pd.read_pickle('data/user_pairs.pkl')\n",
    "df_user_pairs.info()"
   ]
  },
  {
   "cell_type": "markdown",
   "metadata": {},
   "source": [
    "## Calculate score\n",
    "- Represents the average number of unique songs per play. It could be seen as a measure of diversity or variety in the music listening behavior of a user pair. "
   ]
  },
  {
   "cell_type": "code",
   "execution_count": 3,
   "metadata": {},
   "outputs": [],
   "source": [
    "df_user_pairs['score'] = df_user_pairs['songs'] / df_user_pairs['plays']"
   ]
  },
  {
   "cell_type": "code",
   "execution_count": 4,
   "metadata": {},
   "outputs": [
    {
     "data": {
      "text/html": [
       "<div>\n",
       "<style scoped>\n",
       "    .dataframe tbody tr th:only-of-type {\n",
       "        vertical-align: middle;\n",
       "    }\n",
       "\n",
       "    .dataframe tbody tr th {\n",
       "        vertical-align: top;\n",
       "    }\n",
       "\n",
       "    .dataframe thead th {\n",
       "        text-align: right;\n",
       "    }\n",
       "</style>\n",
       "<table border=\"1\" class=\"dataframe\">\n",
       "  <thead>\n",
       "    <tr style=\"text-align: right;\">\n",
       "      <th></th>\n",
       "      <th>score</th>\n",
       "    </tr>\n",
       "  </thead>\n",
       "  <tbody>\n",
       "    <tr>\n",
       "      <th>count</th>\n",
       "      <td>7698683.0000</td>\n",
       "    </tr>\n",
       "    <tr>\n",
       "      <th>mean</th>\n",
       "      <td>0.6161</td>\n",
       "    </tr>\n",
       "    <tr>\n",
       "      <th>std</th>\n",
       "      <td>0.3613</td>\n",
       "    </tr>\n",
       "    <tr>\n",
       "      <th>min</th>\n",
       "      <td>0.0385</td>\n",
       "    </tr>\n",
       "    <tr>\n",
       "      <th>25%</th>\n",
       "      <td>0.2500</td>\n",
       "    </tr>\n",
       "    <tr>\n",
       "      <th>50%</th>\n",
       "      <td>0.5000</td>\n",
       "    </tr>\n",
       "    <tr>\n",
       "      <th>75%</th>\n",
       "      <td>1.0000</td>\n",
       "    </tr>\n",
       "    <tr>\n",
       "      <th>max</th>\n",
       "      <td>1.0000</td>\n",
       "    </tr>\n",
       "  </tbody>\n",
       "</table>\n",
       "</div>"
      ],
      "text/plain": [
       "             score\n",
       "count 7698683.0000\n",
       "mean        0.6161\n",
       "std         0.3613\n",
       "min         0.0385\n",
       "25%         0.2500\n",
       "50%         0.5000\n",
       "75%         1.0000\n",
       "max         1.0000"
      ]
     },
     "execution_count": 4,
     "metadata": {},
     "output_type": "execute_result"
    }
   ],
   "source": [
    "pd.options.display.float_format = '{:.4f}'.format\n",
    "df_user_pairs[['score']].describe()"
   ]
  },
  {
   "cell_type": "code",
   "execution_count": 5,
   "metadata": {},
   "outputs": [
    {
     "name": "stdout",
     "output_type": "stream",
     "text": [
      "<class 'pandas.core.frame.DataFrame'>\n",
      "Index: 3079473 entries, 654307979 to 361701112\n",
      "Data columns (total 5 columns):\n",
      " #   Column     Dtype  \n",
      "---  ------     -----  \n",
      " 0   user_num1  int32  \n",
      " 1   user_num2  int32  \n",
      " 2   plays      int32  \n",
      " 3   songs      int32  \n",
      " 4   score      float64\n",
      "dtypes: float64(1), int32(4)\n",
      "memory usage: 94.0 MB\n"
     ]
    }
   ],
   "source": [
    "df_user_pairs_sample = df_user_pairs.sample(frac=0.4, random_state=42)\n",
    "df_user_pairs_sample.info()"
   ]
  },
  {
   "cell_type": "code",
   "execution_count": 6,
   "metadata": {},
   "outputs": [],
   "source": [
    "df_user_pairs = None # release memory"
   ]
  },
  {
   "cell_type": "markdown",
   "metadata": {},
   "source": [
    "## Create a Dataset"
   ]
  },
  {
   "cell_type": "code",
   "execution_count": 7,
   "metadata": {},
   "outputs": [
    {
     "data": {
      "text/plain": [
       "(0.038461538461538464, 1.0)"
      ]
     },
     "execution_count": 7,
     "metadata": {},
     "output_type": "execute_result"
    }
   ],
   "source": [
    "rating_scale = df_user_pairs_sample['score'].min(), df_user_pairs_sample['score'].max()\n",
    "rating_scale"
   ]
  },
  {
   "cell_type": "code",
   "execution_count": 8,
   "metadata": {},
   "outputs": [],
   "source": [
    "ds_ratings = Dataset.load_from_df(df_user_pairs_sample[['user_num1', 'user_num2', 'score']],\n",
    "                                  Reader(rating_scale=rating_scale))"
   ]
  },
  {
   "cell_type": "markdown",
   "metadata": {},
   "source": [
    "## Matrix Factorization Model: SVD Algorithm"
   ]
  },
  {
   "cell_type": "code",
   "execution_count": 35,
   "metadata": {},
   "outputs": [],
   "source": [
    "user_user_svd = SVD(n_factors=100, n_epochs=5, lr_all=0.005, reg_all=0.02, random_state=42, verbose=False)"
   ]
  },
  {
   "cell_type": "code",
   "execution_count": 36,
   "metadata": {},
   "outputs": [
    {
     "name": "stdout",
     "output_type": "stream",
     "text": [
      "Evaluating RMSE, MAE of algorithm SVD on 5 split(s).\n",
      "\n",
      "                  Fold 1  Fold 2  Fold 3  Fold 4  Fold 5  Mean    Std     \n",
      "RMSE (testset)    0.3128  0.3128  0.3127  0.3123  0.3126  0.3127  0.0002  \n",
      "MAE (testset)     0.2677  0.2678  0.2677  0.2673  0.2676  0.2676  0.0002  \n",
      "Fit time          6.10    6.17    8.60    6.87    4.72    6.49    1.26    \n",
      "Test time         6.48    6.87    4.32    5.32    3.98    5.40    1.14    \n"
     ]
    },
    {
     "data": {
      "text/plain": [
       "{'test_rmse': array([0.31282125, 0.31280601, 0.31271819, 0.3122903 , 0.31262715]),\n",
       " 'test_mae': array([0.26769047, 0.26775908, 0.26765656, 0.26728856, 0.26760341]),\n",
       " 'fit_time': (6.10103178024292,\n",
       "  6.168542146682739,\n",
       "  8.599815607070923,\n",
       "  6.8695268630981445,\n",
       "  4.71898889541626),\n",
       " 'test_time': (6.480862379074097,\n",
       "  6.872457027435303,\n",
       "  4.322003126144409,\n",
       "  5.322954893112183,\n",
       "  3.9813284873962402)}"
      ]
     },
     "execution_count": 36,
     "metadata": {},
     "output_type": "execute_result"
    }
   ],
   "source": [
    "cross_validate(user_user_svd, ds_ratings, measures=['RMSE', 'MAE'], cv=5, n_jobs=4, verbose=True)"
   ]
  },
  {
   "cell_type": "markdown",
   "metadata": {},
   "source": [
    "### NMF Algorithm"
   ]
  },
  {
   "cell_type": "code",
   "execution_count": 31,
   "metadata": {},
   "outputs": [
    {
     "name": "stdout",
     "output_type": "stream",
     "text": [
      "Evaluating RMSE, MAE of algorithm NMF on 5 split(s).\n",
      "\n",
      "                  Fold 1  Fold 2  Fold 3  Fold 4  Fold 5  Mean    Std     \n",
      "RMSE (testset)    0.3567  0.3570  0.3563  0.3568  0.3568  0.3567  0.0002  \n",
      "MAE (testset)     0.2878  0.2879  0.2873  0.2878  0.2877  0.2877  0.0002  \n",
      "Fit time          27.17   25.87   25.41   25.64   15.47   23.91   4.27    \n",
      "Test time         5.74    5.45    4.76    4.37    3.65    4.79    0.75    \n"
     ]
    },
    {
     "data": {
      "text/plain": [
       "{'test_rmse': array([0.35672819, 0.35701825, 0.35630742, 0.35682463, 0.3568213 ]),\n",
       " 'test_mae': array([0.28779308, 0.28785186, 0.28732793, 0.28775741, 0.28767876]),\n",
       " 'fit_time': (27.165193796157837,\n",
       "  25.870254039764404,\n",
       "  25.41075873374939,\n",
       "  25.64201593399048,\n",
       "  15.465425491333008),\n",
       " 'test_time': (5.737767457962036,\n",
       "  5.449893951416016,\n",
       "  4.760817766189575,\n",
       "  4.3743672370910645,\n",
       "  3.6481359004974365)}"
      ]
     },
     "execution_count": 31,
     "metadata": {},
     "output_type": "execute_result"
    }
   ],
   "source": [
    "user_user_nmf = NMF(n_factors=100, n_epochs=5, random_state=42, verbose=False)\n",
    "cross_validate(user_user_nmf, ds_ratings, measures=['RMSE', 'MAE'], cv=5, n_jobs=4, verbose=True)"
   ]
  },
  {
   "cell_type": "markdown",
   "metadata": {},
   "source": [
    "### Save the Models"
   ]
  },
  {
   "cell_type": "code",
   "execution_count": 40,
   "metadata": {},
   "outputs": [
    {
     "name": "stdout",
     "output_type": "stream",
     "text": [
      "The dump has been saved as file models/user_user_svd.dump\n",
      "The dump has been saved as file models/user_user_nmf.dump\n"
     ]
    }
   ],
   "source": [
    "dump.dump('models/user_user_svd.dump', algo=user_user_svd, verbose=True)\n",
    "dump.dump('models/user_user_nmf.dump', algo=user_user_nmf, verbose=True)"
   ]
  },
  {
   "cell_type": "code",
   "execution_count": 10,
   "metadata": {},
   "outputs": [
    {
     "data": {
      "text/plain": [
       "array([63525, 41004, 40891, 22373,  5947], dtype=int32)"
      ]
     },
     "execution_count": 10,
     "metadata": {},
     "output_type": "execute_result"
    }
   ],
   "source": [
    "df_user_pairs_sample['user_num1'].values[:5]"
   ]
  },
  {
   "cell_type": "code",
   "execution_count": 37,
   "metadata": {},
   "outputs": [],
   "source": [
    "def get_recommendations(model, user_num, k=10):\n",
    "    estimated_ratings = []\n",
    "    raw_user_id = model.trainset.to_inner_uid(user_num)\n",
    "    for raw_item_id in model.trainset.all_items():\n",
    "        est = model.estimate(raw_user_id, raw_item_id)\n",
    "        estimated_ratings.append((raw_item_id, est))\n",
    "    return sorted(estimated_ratings, key=lambda x: x[1], reverse=True)[:k]"
   ]
  },
  {
   "cell_type": "code",
   "execution_count": null,
   "metadata": {},
   "outputs": [],
   "source": [
    "get_recommendations(user_user_svd, 28853, k=10)"
   ]
  }
 ],
 "metadata": {
  "kernelspec": {
   "display_name": "Python 3 (ipykernel)",
   "language": "python",
   "name": "python3"
  },
  "language_info": {
   "codemirror_mode": {
    "name": "ipython",
    "version": 3
   },
   "file_extension": ".py",
   "mimetype": "text/x-python",
   "name": "python",
   "nbconvert_exporter": "python",
   "pygments_lexer": "ipython3",
   "version": "3.11.8"
  }
 },
 "nbformat": 4,
 "nbformat_minor": 2
}
